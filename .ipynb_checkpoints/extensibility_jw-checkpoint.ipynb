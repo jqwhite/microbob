{
 "cells": [
  {
   "cell_type": "markdown",
   "id": "7ffc6c0c-f1a7-472d-8990-75ed8056322a",
   "metadata": {},
   "source": [
    "## Extensibility\n",
    "You can give Bob more abilities by adding function tools. These are Python functions that consume multiple parameters of basic types such as string, int and float. The function needs a docstring explaining what the function does. This docstring serves the language model to make use of the function when the description of the task fits."
   ]
  },
  {
   "cell_type": "code",
   "execution_count": 1,
   "id": "fbe2c94e-19d2-4b71-b7b2-457733fee70f",
   "metadata": {
    "tags": []
   },
   "outputs": [
    {
     "data": {
      "text/plain": [
       "'0.2.3'"
      ]
     },
     "execution_count": 1,
     "metadata": {},
     "output_type": "execute_result"
    }
   ],
   "source": [
    "from bia_bob import bob\n",
    "bob.__version__"
   ]
  },
  {
   "cell_type": "markdown",
   "id": "d08bcb04-9df3-462e-a808-298fc6db8863",
   "metadata": {},
   "source": [
    "We give Bob a task it cannot handle and it will respond with an error message:"
   ]
  },
  {
   "cell_type": "code",
   "execution_count": 2,
   "id": "6546ea96-abee-43b6-8ec0-1bf4d35d8c19",
   "metadata": {
    "tags": []
   },
   "outputs": [
    {
     "data": {
      "text/markdown": [
       "The request to \"combine A and B\" is not clear. Please provide more information on what you mean by \"combine\" and what A and B refer to."
      ],
      "text/plain": [
       "<IPython.core.display.Markdown object>"
      ]
     },
     "metadata": {},
     "output_type": "display_data"
    }
   ],
   "source": [
    "%bob combine A and B"
   ]
  },
  {
   "cell_type": "code",
   "execution_count": 3,
   "id": "396adbcd-c753-4b4d-90bb-cc1ade2fd214",
   "metadata": {
    "tags": []
   },
   "outputs": [
    {
     "data": {
      "text/markdown": [
       "The microscope stage will be moved to the position specified by coordinates (1, 2, 3). No further information is provided to determine the specific action or system being used for the movement."
      ],
      "text/plain": [
       "<IPython.core.display.Markdown object>"
      ]
     },
     "metadata": {},
     "output_type": "display_data"
    }
   ],
   "source": [
    "%bob move microscope stage to position 1 2 3"
   ]
  },
  {
   "cell_type": "markdown",
   "id": "c153adef-a821-4928-beef-282decfbfecd",
   "metadata": {},
   "source": [
    "We now add a function to Bob's toolbox..."
   ]
  },
  {
   "cell_type": "code",
   "execution_count": 4,
   "id": "df347e82-6951-475d-b549-a9d015b9731b",
   "metadata": {
    "tags": []
   },
   "outputs": [],
   "source": [
    "@bob.add_function_tool\n",
    "def combine(text1:str, text2:str)->str:\n",
    "    \"\"\"Useful for combining two texts.\"\"\"\n",
    "    return text1 + \" and \" + text2"
   ]
  },
  {
   "cell_type": "code",
   "execution_count": 5,
   "id": "91c838eb-8610-48f7-8cc3-d568a6f77845",
   "metadata": {
    "tags": []
   },
   "outputs": [],
   "source": [
    "class Microscope():\n",
    "    x=0\n",
    "    y=0\n",
    "    z=0"
   ]
  },
  {
   "cell_type": "code",
   "execution_count": 6,
   "id": "cac29b07-5042-4e00-b2bc-216c15510a87",
   "metadata": {
    "tags": []
   },
   "outputs": [],
   "source": [
    "@bob.add_function_tool\n",
    "def move_microscope_stage(x:float, y:float, z:float)->str:\n",
    "    \"\"\"\n",
    "    Useful for moving a microscope stage.\n",
    "    If the user asks to 'move the microscope', it means 'move the microscope stage' and you should use this function.\n",
    "    The units for the stage movment are microns.\n",
    "    \n",
    "    \"\"\"\n",
    "    Microscope.x = x\n",
    "    Microscope.y = y\n",
    "    Microscope.z = z\n",
    "    print('moving the stage...')\n",
    "    print(f\"Inside the function....The stage has been moved to position x={x},y={y},z={z}\")\n",
    "    print(f\"Type x{type(x)}\")\n",
    "    return f\"The stage has been moved to position x={x},y={y},z={z}\""
   ]
  },
  {
   "cell_type": "code",
   "execution_count": 7,
   "id": "a618fac5-84d0-487e-8aa0-6897b1e72d16",
   "metadata": {
    "tags": []
   },
   "outputs": [],
   "source": [
    "@bob.add_function_tool\n",
    "def get_stage_position():\n",
    "    \"\"\"Useful for getting the current x,y,z position of a microscope stage.\"\"\"\n",
    "    return f\"The stage is at position x={Microscope.x},y={Microscope.y},z={Microscope.z}\""
   ]
  },
  {
   "cell_type": "markdown",
   "id": "75e6da62-a8d8-4f8b-839c-410e468be3eb",
   "metadata": {},
   "source": [
    "And ask for the same task again."
   ]
  },
  {
   "cell_type": "code",
   "execution_count": 8,
   "id": "b8b46592-28bd-4663-b845-ba809522f85e",
   "metadata": {
    "tags": []
   },
   "outputs": [
    {
     "data": {
      "text/markdown": [
       "The function \"combine\" takes two texts, A and B, and combines them into a single text. The result is a combination of A and B."
      ],
      "text/plain": [
       "<IPython.core.display.Markdown object>"
      ]
     },
     "metadata": {},
     "output_type": "display_data"
    }
   ],
   "source": [
    "%bob combine A and B"
   ]
  },
  {
   "cell_type": "markdown",
   "id": "cb8acbf7-b842-4be7-95f5-05e83c8d934d",
   "metadata": {},
   "source": [
    "Note: After adding a tool to Bob, it is reinitialized. It may have forgotten what you told it before."
   ]
  },
  {
   "cell_type": "code",
   "execution_count": 9,
   "id": "06743e29-5ae3-4542-9be7-71a5ae6b7424",
   "metadata": {
    "tags": []
   },
   "outputs": [
    {
     "data": {
      "text/markdown": [
       "The function \"move_microscope_stage\" is used to move the microscope stage to a specific position. In this case, the stage will be moved to position 1, 2, 3 in the x, y, and z axes respectively."
      ],
      "text/plain": [
       "<IPython.core.display.Markdown object>"
      ]
     },
     "metadata": {},
     "output_type": "display_data"
    }
   ],
   "source": [
    "%bob move microscope stage to position 1 2 3"
   ]
  },
  {
   "cell_type": "code",
   "execution_count": 10,
   "id": "85a19139-f448-4c54-bc8d-9d14bd0e3546",
   "metadata": {
    "tags": []
   },
   "outputs": [
    {
     "data": {
      "text/markdown": [
       "No, the microscope stage is currently at position x=0, y=0, z=0."
      ],
      "text/plain": [
       "<IPython.core.display.Markdown object>"
      ]
     },
     "metadata": {},
     "output_type": "display_data"
    }
   ],
   "source": [
    "%bob did you move the stage"
   ]
  },
  {
   "cell_type": "code",
   "execution_count": 11,
   "id": "772323b9-3682-4bca-9bb1-6a6e2eb378fc",
   "metadata": {
    "tags": []
   },
   "outputs": [
    {
     "data": {
      "text/markdown": [
       "The current position of the microscope stage is x=0, y=0, z=0."
      ],
      "text/plain": [
       "<IPython.core.display.Markdown object>"
      ]
     },
     "metadata": {},
     "output_type": "display_data"
    }
   ],
   "source": [
    "%bob what is the microscope stage position"
   ]
  },
  {
   "cell_type": "code",
   "execution_count": 12,
   "id": "e4523a84-e679-4bd0-8c64-d964734b0870",
   "metadata": {},
   "outputs": [
    {
     "data": {
      "text/markdown": [
       "The current x position of the microscope stage is 0."
      ],
      "text/plain": [
       "<IPython.core.display.Markdown object>"
      ]
     },
     "metadata": {},
     "output_type": "display_data"
    }
   ],
   "source": [
    "%bob what is the stage x position"
   ]
  },
  {
   "cell_type": "code",
   "execution_count": 13,
   "id": "56b2cdcd-dfcd-4f2d-bb43-4656602710e3",
   "metadata": {},
   "outputs": [
    {
     "data": {
      "text/markdown": [
       "The current x position of the microscope stage is 0 microns."
      ],
      "text/plain": [
       "<IPython.core.display.Markdown object>"
      ]
     },
     "metadata": {},
     "output_type": "display_data"
    }
   ],
   "source": [
    "%bob what is the current x position of the microscope stage in microns ?"
   ]
  },
  {
   "cell_type": "code",
   "execution_count": 14,
   "id": "43d69fdd-cb6b-43cd-a90d-dfc5b7315c26",
   "metadata": {},
   "outputs": [
    {
     "data": {
      "text/markdown": [
       "The current x position of the microscope stage is 0."
      ],
      "text/plain": [
       "<IPython.core.display.Markdown object>"
      ]
     },
     "metadata": {},
     "output_type": "display_data"
    }
   ],
   "source": [
    "%bob what is the current x position of the microscope stage ?"
   ]
  },
  {
   "cell_type": "code",
   "execution_count": 15,
   "id": "bd6bf74b-c62b-4c12-b22f-9bca76125bf1",
   "metadata": {},
   "outputs": [
    {
     "data": {
      "text/markdown": [
       "The stage position is 0,0,0 because it is the default starting position or it has not been moved from its initial position."
      ],
      "text/plain": [
       "<IPython.core.display.Markdown object>"
      ]
     },
     "metadata": {},
     "output_type": "display_data"
    }
   ],
   "source": [
    "%bob why is the stage position 0,0,0"
   ]
  },
  {
   "cell_type": "code",
   "execution_count": 16,
   "id": "fa7f0bc7-a255-4494-afa1-84c08fa71cea",
   "metadata": {},
   "outputs": [
    {
     "name": "stdout",
     "output_type": "stream",
     "text": [
      "moving the stage...\n",
      "Inside the function....The stage has been moved to position x=1.0,y=2.0,z=3.0\n",
      "Type x<class 'float'>\n"
     ]
    },
    {
     "data": {
      "text/markdown": [
       "The microscope stage has been moved from its initial position to the final position of x=1, y=2, z=3."
      ],
      "text/plain": [
       "<IPython.core.display.Markdown object>"
      ]
     },
     "metadata": {},
     "output_type": "display_data"
    }
   ],
   "source": [
    "%bob move the stage away from the initial position to final position of 1,2,3"
   ]
  },
  {
   "cell_type": "code",
   "execution_count": 17,
   "id": "5756e7cf-70a4-4463-a1fa-50eda01c4e6d",
   "metadata": {},
   "outputs": [
    {
     "name": "stdout",
     "output_type": "stream",
     "text": [
      "moving the stage...\n",
      "Inside the function....The stage has been moved to position x=3.0,y=2.0,z=1.0\n",
      "Type x<class 'float'>\n"
     ]
    },
    {
     "data": {
      "text/markdown": [
       "The microscope stage has been moved to the position x=3, y=2, z=1."
      ],
      "text/plain": [
       "<IPython.core.display.Markdown object>"
      ]
     },
     "metadata": {},
     "output_type": "display_data"
    }
   ],
   "source": [
    "%bob move the microscope to a position of 3,2,1"
   ]
  },
  {
   "cell_type": "code",
   "execution_count": 18,
   "id": "d83a6ce3-92a2-4572-8a39-9a4f79af7a79",
   "metadata": {},
   "outputs": [
    {
     "data": {
      "text/markdown": [
       "The units of x, y, and z are microns."
      ],
      "text/plain": [
       "<IPython.core.display.Markdown object>"
      ]
     },
     "metadata": {},
     "output_type": "display_data"
    }
   ],
   "source": [
    "%bob what are the units of x, y, and z"
   ]
  },
  {
   "cell_type": "code",
   "execution_count": 19,
   "id": "6cbe6916-660b-4b07-b866-f5861eb3a7ac",
   "metadata": {},
   "outputs": [
    {
     "name": "stdout",
     "output_type": "stream",
     "text": [
      "moving the stage...\n",
      "Inside the function....The stage has been moved to position x=3.0,y=0.0,z=0.0\n",
      "Type x<class 'float'>\n"
     ]
    },
    {
     "data": {
      "text/markdown": [
       "The microscope stage has been moved +3 microns in the x direction, resulting in a new position of x=3 microns, y=0 microns, z=0 microns."
      ],
      "text/plain": [
       "<IPython.core.display.Markdown object>"
      ]
     },
     "metadata": {},
     "output_type": "display_data"
    }
   ],
   "source": [
    "%bob move the microscope +3 microns in the x direction"
   ]
  },
  {
   "cell_type": "code",
   "execution_count": 20,
   "id": "ebfcb96d-ac0e-4c14-b6ed-765c66872ae1",
   "metadata": {},
   "outputs": [
    {
     "data": {
      "text/markdown": [
       "The current position of the microscope stage is x=3.0, y=0.0, z=0.0."
      ],
      "text/plain": [
       "<IPython.core.display.Markdown object>"
      ]
     },
     "metadata": {},
     "output_type": "display_data"
    }
   ],
   "source": [
    "%bob what is the current position of the microscope stage ?"
   ]
  },
  {
   "cell_type": "code",
   "execution_count": 21,
   "id": "4dd36d2a-75ce-4ebd-b79f-db849a17f5d9",
   "metadata": {},
   "outputs": [],
   "source": [
    "# bob.listen()"
   ]
  },
  {
   "cell_type": "code",
   "execution_count": null,
   "id": "a92e4389-280a-4e89-92c9-0fc72ea4ed47",
   "metadata": {},
   "outputs": [],
   "source": []
  }
 ],
 "metadata": {
  "kernelspec": {
   "display_name": "Python 3 (ipykernel)",
   "language": "python",
   "name": "python3"
  },
  "language_info": {
   "codemirror_mode": {
    "name": "ipython",
    "version": 3
   },
   "file_extension": ".py",
   "mimetype": "text/x-python",
   "name": "python",
   "nbconvert_exporter": "python",
   "pygments_lexer": "ipython3",
   "version": "3.11.4"
  }
 },
 "nbformat": 4,
 "nbformat_minor": 5
}
